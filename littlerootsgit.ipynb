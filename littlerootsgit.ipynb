{
 "cells": [
  {
   "cell_type": "code",
   "execution_count": 2,
   "metadata": {
    "collapsed": false
   },
   "outputs": [
   ],
   "source": [
    "# !/usr/bin/env python\n",
    "# -*- coding: utf-8 -*-\n",
    "#\n",
    "# Author: David Hokken\n",
    "# Email:  david.hokken@gmail.com\n",
    "# Date:   28/9/2020\n",
    "#\n",
    "\n",
    "\n",
    "###############################\n",
    "########### MODULES ########### \n",
    "###############################\n",
    "\n",
    "\n",
    "import itertools\n",
    "import math\n",
    "import matplotlib.pyplot as plt\n",
    "import numpy as np\n",
    "\n",
    "\n",
    "###############################\n",
    "########## FUNCTIONS ##########\n",
    "###############################\n",
    "\n",
    "\n",
    "######################\n",
    "#### Basic things ####\n",
    "######################\n",
    "\n",
    "R.<x> = PolynomialRing(QQ)\n",
    "S.<y> = PolynomialRing(QQ)\n",
    "\n",
    "def F(n):\n",
    "    '''Returns a list with all Littlewood polynomials of degree n'''\n",
    "    L = (itertools.product((1,-1),repeat=n))\n",
    "    L = [x^n+R(v) for v in L]\n",
    "    return L\n",
    "\n",
    "def get_ir(lst):\n",
    "    '''Returns the irreducibles from a list of polynomials'''\n",
    "    return [f for f in lst if f.is_irreducible()]\n",
    "\n",
    "def get_sq(lst):\n",
    "    '''Returns the polynomials with square discriminant from a list of polynomials'''\n",
    "    return [f for f in lst if f.discriminant().is_square()]\n",
    "\n",
    "def get_sqir(lst):\n",
    "    '''Returns the irreducibles with square discriminant from a list of polynomials\n",
    "    NOTE: get_ir(get_sq(...)) is MUCH faster than get_sq(get_ir(...))'''\n",
    "    return get_ir(get_sq(lst))\n",
    "\n",
    "def Ir(n):\n",
    "    '''Returns a list with all irreducible Littlewood polynomials of degree n'''\n",
    "    return get_ir(F(n))\n",
    "\n",
    "def Sq(n):\n",
    "    '''Returns a list with all irreducible Littlewood polynomials of degree n with square discriminant'''\n",
    "    return get_sqir(F(n))\n",
    "\n",
    "def Sqnotir(n):\n",
    "    '''Returns a list with all Littlewood polynomials of degree n with square discriminant'''\n",
    "    return get_sqs(F(n))\n",
    "\n",
    "\n",
    "############################\n",
    "#### (skew-)reciprocals ####\n",
    "############################\n",
    "\n",
    "def PaL(n):\n",
    "    '''Returns a list of all reciprocal Littlewood polynomials of degree 2n'''\n",
    "    L = list(itertools.product((1,-1),repeat=n-1))\n",
    "    PaL = []\n",
    "    for i in range(len(L)):\n",
    "        L[i] = list(L[i])\n",
    "        L[i].extend([1,1])\n",
    "        L[i] = tuple(L[i])\n",
    "        PaL.append(list(reversed(L[i]))[:-1])\n",
    "        PaL[i].extend(list(L[i]))\n",
    "    PaL = [R(v) for v in PaL]\n",
    "    return PaL \n",
    "\n",
    "def Palnotsq(n):\n",
    "    '''Returns a list of all irreducible reciprocal Littlewood polynomials of degree 2n'''\n",
    "    return get_ir(PaL(n))\n",
    "\n",
    "def Pal(n):\n",
    "    '''Returns a list of all irreducible reciprocal Littlewood polynomials of degree 2n with square discriminant'''\n",
    "    return get_sqir(PaL(n))\n",
    "\n",
    "def ISP(n):\n",
    "    '''Returns a list of all irreducible skewreciprocal Littlewood polynomials of degree 2n'''\n",
    "    L = list(itertools.product((1,-1),repeat=n-1))\n",
    "    ISPlist = []\n",
    "    for i in range(len(L)):\n",
    "        lst = list(L[i])\n",
    "        M = lst[::-1]\n",
    "        M.extend([1,1])\n",
    "        N = [-1*x for x in M[1::2]]\n",
    "        M = M[::2]\n",
    "        M = [x for y in zip(M, N) for x in y]\n",
    "        if n % 4 == 0:\n",
    "            M.append(1)\n",
    "        lst.extend(M[1:])\n",
    "        lst[0:0]=[1,1]\n",
    "        lst = tuple(reversed(lst))\n",
    "        ISPlist.append(lst)\n",
    "    ISPlist = get_sqir([R(v) for v in ISPlist])\n",
    "    return ISPlist\n",
    "\n",
    "\n",
    "#######################\n",
    "#### Miscellaneous ####\n",
    "#######################\n",
    "\n",
    "def bintopol(number):\n",
    "    '''Given a string of 0s and 1s, converts the 0s to -1s and converts the resulting string of 1s and -1s to\n",
    "    a Littlewood polynomial of degree the length of the string minus 1 with i-th coefficients corresponding to\n",
    "    the i-th element in the string'''\n",
    "    digits = [int(x) for x in str(number)]\n",
    "    for i in range(len(digits)):\n",
    "        if digits[i] == 0:\n",
    "            digits[i] = -1\n",
    "    return R(digits)\n",
    "\n",
    "def bintodisc(number):\n",
    "    '''Does like bintopol, but in addition, returns whether the resulting polynomial is irreducible and has\n",
    "    square discriminant'''\n",
    "    return (bintopol(number), bintopol(number).is_irreducible(), bintopol(number).discriminant().is_square())\n",
    "\n",
    "def is_palindrome(f):\n",
    "    '''Checks if a given polynomial is reciprocal'''\n",
    "    return f.list() == list(reversed(f.list()))\n",
    "\n",
    "def realandcplx(lst):\n",
    "    '''Given a list of polynomials, returns for each polynomial in the list its index, number of real roots, number\n",
    "    of unimodular roots, whether it is reciprocal or not, the polynomial itself, and a list of tuples of the roots\n",
    "    (in the real case) or the absolute value of the root (in the complex case) with specification of them being \n",
    "    either real or complex'''\n",
    "    for i in range(len(lst)):\n",
    "        lst2 = lst[i].roots(ring=CDF)\n",
    "        numberofreals = 0\n",
    "        numberofunits = 0\n",
    "        for n in range(len(lst2)):\n",
    "            if lst2[n][0] == lst2[n][0].conjugate():\n",
    "                numberofreals += 1\n",
    "                lst2[n] = (lst2[n][0].numerical_approx(30), 'real')\n",
    "                if lst2[n][0] == 1:\n",
    "                    numberofunits += 1\n",
    "            else:\n",
    "                lst2[n] = (lst2[n][0].abs().numerical_approx(30), 'cplx')\n",
    "                if lst2[n][0] == 1:\n",
    "                    numberofunits += 1\n",
    "        print(i, numberofreals, numberofunits, is_palindrome(lst[i]), lst[i], lst2)\n",
    "\n",
    "def t(a,b):\n",
    "    '''helper function for f_red (see below)'''\n",
    "    return b*(-1)**a/(math.factorial(a))*(math.factorial(b-a-1))/(math.factorial(b-2*a))\n",
    "\n",
    "def f_red(f):\n",
    "    '''Given a reciprocal polynomial f of degree 2n in the variable x, returns the polynomial f_R of degree n in the \n",
    "    variable y = x+x^{-1} such that f(x) = x^n f_R(y)'''\n",
    "    if not is_palindrome(f):\n",
    "        return \"This is not a palindrome\"\n",
    "    else: \n",
    "        flist = f.list()[:(len(f.list())+1)/2]\n",
    "        deg = len(flist)-1\n",
    "        alist = flist[:]\n",
    "        for i in range(deg+1):\n",
    "            for l in range(1, int(math.floor((i)/2)+1)):\n",
    "                alist[i] += flist[i-2*l]*t(l, deg-i+2*l)\n",
    "        return S(list(reversed(alist)))\n",
    "\n",
    "def symandskew(f):\n",
    "    '''Given a polynomial, returns its symmetric and skewsymmetric part separately (in the variable y)'''\n",
    "    flist = f.list()\n",
    "    deg = len(flist)-1\n",
    "    skew = [0]*(deg+1)\n",
    "    sym = [0]*(deg+1)\n",
    "    skew[1::2] = flist[1::2]\n",
    "    sym[::2] = flist[::2]\n",
    "    return(S(sym), S(skew))"
   ]
  },
  {
   "cell_type": "markdown",
   "metadata": {
    "collapsed": false
   },
   "source": [
    "For example, $\\mathrm{F}_4$ (the Littlewood polynomials of degree 4), $\\mathrm{Ir}_6$ (the irreducible Littlewood polynomials of degree 6), and $\\mathrm{Sq}_6$ (the irreducible Littlewood polynomials of degree 6 with square discriminant) can be computed as follows:"
   ]
  },
  {
   "cell_type": "code",
   "execution_count": 2,
   "metadata": {
    "collapsed": false
   },
   "outputs": [
    {
     "data": {
      "text/plain": [
       "[x^4 + x^3 + x^2 + x + 1,\n",
       " x^4 + x^3 - x^2 + x + 1,\n",
       " x^4 + x^3 + x^2 - x + 1,\n",
       " x^4 + x^3 - x^2 - x + 1,\n",
       " x^4 + x^3 + x^2 + x - 1,\n",
       " x^4 + x^3 - x^2 + x - 1,\n",
       " x^4 + x^3 + x^2 - x - 1,\n",
       " x^4 + x^3 - x^2 - x - 1]"
      ]
     },
     "execution_count": 2,
     "metadata": {
     },
     "output_type": "execute_result"
    }
   ],
   "source": [
    "F(4)"
   ]
  },
  {
   "cell_type": "code",
   "execution_count": 1,
   "metadata": {
    "collapsed": false
   },
   "outputs": [
    {
     "ename": "NameError",
     "evalue": "name 'F' is not defined",
     "output_type": "error",
     "traceback": [
      "\u001b[0;31m---------------------------------------------------------------------------\u001b[0m",
      "\u001b[0;31mNameError\u001b[0m                                 Traceback (most recent call last)",
      "\u001b[0;32m<ipython-input-1-b2476485fcda>\u001b[0m in \u001b[0;36m<module>\u001b[0;34m\u001b[0m\n\u001b[1;32m      2\u001b[0m \u001b[0mimagparts\u001b[0m \u001b[0;34m=\u001b[0m \u001b[0;34m[\u001b[0m\u001b[0;34m]\u001b[0m\u001b[0;34m\u001b[0m\u001b[0;34m\u001b[0m\u001b[0m\n\u001b[1;32m      3\u001b[0m \u001b[0;34m\u001b[0m\u001b[0m\n\u001b[0;32m----> 4\u001b[0;31m \u001b[0;32mfor\u001b[0m \u001b[0mf\u001b[0m \u001b[0;32min\u001b[0m \u001b[0mF\u001b[0m\u001b[0;34m(\u001b[0m\u001b[0mInteger\u001b[0m\u001b[0;34m(\u001b[0m\u001b[0;36m15\u001b[0m\u001b[0;34m)\u001b[0m\u001b[0;34m)\u001b[0m\u001b[0;34m:\u001b[0m\u001b[0;34m\u001b[0m\u001b[0;34m\u001b[0m\u001b[0m\n\u001b[0m\u001b[1;32m      5\u001b[0m     \u001b[0mfroots\u001b[0m \u001b[0;34m=\u001b[0m \u001b[0mf\u001b[0m\u001b[0;34m.\u001b[0m\u001b[0mroots\u001b[0m\u001b[0;34m(\u001b[0m\u001b[0mring\u001b[0m\u001b[0;34m=\u001b[0m\u001b[0mCDF\u001b[0m\u001b[0;34m)\u001b[0m\u001b[0;34m\u001b[0m\u001b[0;34m\u001b[0m\u001b[0m\n\u001b[1;32m      6\u001b[0m     \u001b[0;32mfor\u001b[0m \u001b[0mr\u001b[0m \u001b[0;32min\u001b[0m \u001b[0mfroots\u001b[0m\u001b[0;34m:\u001b[0m\u001b[0;34m\u001b[0m\u001b[0;34m\u001b[0m\u001b[0m\n",
      "\u001b[0;31mNameError\u001b[0m: name 'F' is not defined"
     ]
    }
   ],
   "source": [
    "realparts = []\n",
    "imagparts = []\n",
    "\n",
    "for f in F(15):\n",
    "    froots = f.roots(ring=CDF)\n",
    "    for r in froots:\n",
    "            realparts.append(r[0].real())\n",
    "            imagparts.append(r[0].imag())\n",
    "\n",
    "fig = plt.figure(figsize=(21, 13))\n",
    "ax = fig.add_subplot(1,1,1)\n",
    "plt.scatter(realparts, imagparts, s=0.05, color='red')\n",
    "plt.show()"
   ]
  },
  {
   "cell_type": "code",
   "execution_count": 19,
   "metadata": {
    "collapsed": false
   },
   "outputs": [
   ],
   "source": [
    "plt.close('all')"
   ]
  },
  {
   "cell_type": "code",
   "execution_count": 3,
   "metadata": {
    "collapsed": false
   },
   "outputs": [
    {
     "data": {
      "text/plain": [
       "[x^6 + x^5 + x^4 + x^3 + x^2 + x + 1,\n",
       " x^6 + x^5 + x^4 - x^3 + x^2 + x + 1,\n",
       " x^6 + x^5 - x^4 - x^3 + x^2 + x + 1,\n",
       " x^6 + x^5 - x^4 + x^3 - x^2 + x + 1,\n",
       " x^6 + x^5 + x^4 - x^3 - x^2 + x + 1,\n",
       " x^6 + x^5 - x^4 - x^3 - x^2 + x + 1,\n",
       " x^6 + x^5 + x^4 + x^3 + x^2 - x + 1,\n",
       " x^6 + x^5 + x^4 - x^3 + x^2 - x + 1,\n",
       " x^6 + x^5 - x^4 - x^3 + x^2 - x + 1,\n",
       " x^6 + x^5 + x^4 + x^3 - x^2 - x + 1,\n",
       " x^6 + x^5 - x^4 + x^3 - x^2 - x + 1,\n",
       " x^6 + x^5 - x^4 - x^3 - x^2 - x + 1,\n",
       " x^6 + x^5 + x^4 + x^3 + x^2 + x - 1,\n",
       " x^6 + x^5 - x^4 + x^3 + x^2 + x - 1,\n",
       " x^6 + x^5 + x^4 - x^3 + x^2 + x - 1,\n",
       " x^6 + x^5 - x^4 + x^3 - x^2 + x - 1,\n",
       " x^6 + x^5 + x^4 - x^3 - x^2 + x - 1,\n",
       " x^6 + x^5 - x^4 - x^3 - x^2 + x - 1,\n",
       " x^6 + x^5 - x^4 + x^3 + x^2 - x - 1,\n",
       " x^6 + x^5 + x^4 - x^3 + x^2 - x - 1,\n",
       " x^6 + x^5 - x^4 - x^3 + x^2 - x - 1,\n",
       " x^6 + x^5 + x^4 + x^3 - x^2 - x - 1,\n",
       " x^6 + x^5 - x^4 + x^3 - x^2 - x - 1,\n",
       " x^6 + x^5 + x^4 - x^3 - x^2 - x - 1]"
      ]
     },
     "execution_count": 3,
     "metadata": {
     },
     "output_type": "execute_result"
    }
   ],
   "source": [
    "Ir(6)"
   ]
  },
  {
   "cell_type": "code",
   "execution_count": 17,
   "metadata": {
    "collapsed": false
   },
   "outputs": [
    {
     "data": {
      "text/plain": [
       "[x^6 + x^5 - x^4 + x^3 - x^2 + x + 1,\n",
       " x^6 + x^5 - x^4 - x^3 - x^2 + x + 1,\n",
       " x^6 + x^5 + x^4 - x^3 - x^2 + x - 1]"
      ]
     },
     "execution_count": 17,
     "metadata": {
     },
     "output_type": "execute_result"
    }
   ],
   "source": [
    "Sq(6)"
   ]
  },
  {
   "cell_type": "markdown",
   "metadata": {
    "collapsed": false
   },
   "source": [
    "Some more advanced stuff: given a reciprocal polynomial $f(x)$ of degree $2n$, calculate the polynomial $f_{\\text{red}}(y)$ in the variable $y = x+x^{-1}$ such that $f(x) = x^n f_{\\text{red}}(y)$, and split the result in its symmetric and skewsymmetric part:"
   ]
  },
  {
   "cell_type": "code",
   "execution_count": 18,
   "metadata": {
    "collapsed": false
   },
   "outputs": [
    {
     "data": {
      "text/plain": [
       "y^5 + y^4 - 6*y^3 - 5*y^2 + 7*y + 3"
      ]
     },
     "execution_count": 18,
     "metadata": {
     },
     "output_type": "execute_result"
    }
   ],
   "source": [
    "f_red(x^10+x^9-x^8-x^7-x^6-x^5-x^4-x^3-x^2+x+1)"
   ]
  },
  {
   "cell_type": "code",
   "execution_count": 19,
   "metadata": {
    "collapsed": false
   },
   "outputs": [
    {
     "data": {
      "text/plain": [
       "(y^4 - 5*y^2 + 3, y^3 - 4*y)"
      ]
     },
     "execution_count": 19,
     "metadata": {
     },
     "output_type": "execute_result"
    }
   ],
   "source": [
    "symandskew(y^4 + y^3 - 5*y^2 - 4*y + 3)"
   ]
  },
  {
   "cell_type": "markdown",
   "metadata": {
    "collapsed": false
   },
   "source": [
    "Calculate the fraction $\\Delta(f)/\\Delta(f_{\\text{red}})^2$ for all reciprocal polynomials of some degree, here the irreducible ones of degree 24 with square discriminant:"
   ]
  },
  {
   "cell_type": "code",
   "execution_count": 21,
   "metadata": {
    "collapsed": false
   },
   "outputs": [
    {
     "name": "stdout",
     "output_type": "stream",
     "text": [
      "2^8 * 3^2 * 13^4 * 17^2\n",
      "2^24 * 5^6\n",
      "2^8 * 5^2 * 23^2 * 29^4\n",
      "2^24 * 3^2 * 5^4 * 13^2\n",
      "2^8 * 7^2 * 29^2 * 53^4\n",
      "2^32 * 17^4\n",
      "2^8 * 3^4 * 5^6 * 7^2 * 17^4\n",
      "2^24 * 5^2 * 13^4 * 19^2\n",
      "2^8 * 5^12 * 11^2 * 41^2\n",
      "2^24 * 3^2 * 11^2 * 37^4\n",
      "2^8 * 13^2 * 47^2 * 173^4\n",
      "2^24 * 5^12 * 7^2\n",
      "2^8 * 3^2 * 5^2 * 53^2 * 229^4\n",
      "2^30 * 5^4 * 7^2 * 13^4\n",
      "2^8 * 17^2 * 59^2 * 293^4\n"
     ]
    }
   ],
   "source": [
    "for i in range(5,20):\n",
    "    print (y^8+i*y^6+i*y^4+i*y^2+1).discriminant().factor()"
   ]
  },
  {
   "cell_type": "markdown",
   "metadata": {
    "collapsed": false
   },
   "source": [
    "The function realandcplx does the following. Given a list of polynomials, returns for each polynomial in the list its index, number of real roots, numbermof unimodular roots, whether it is reciprocal or not, the polynomial itself, and a list of tuples of the roots (in the real case) or the absolute value of the root (in the complex case) with specification of them being either real or complex."
   ]
  },
  {
   "cell_type": "code",
   "execution_count": 22,
   "metadata": {
    "collapsed": false
   },
   "outputs": [
    {
     "name": "stdout",
     "output_type": "stream",
     "text": [
      "(0, 0, 4, True, x^8 + x^7 + x^6 - x^5 + x^4 - x^3 + x^2 + x + 1, [(1.4868025, 'cplx'), (1.4868025, 'cplx'), (0.67258427, 'cplx'), (0.67258427, 'cplx'), (1.0000000, 'cplx'), (1.0000000, 'cplx'), (1.0000000, 'cplx'), (1.0000000, 'cplx')])\n",
      "(1, 0, 4, True, x^8 + x^7 - x^6 - x^5 + x^4 - x^3 - x^2 + x + 1, [(1.3216632, 'cplx'), (1.3216632, 'cplx'), (0.75662244, 'cplx'), (0.75662244, 'cplx'), (1.0000000, 'cplx'), (1.0000000, 'cplx'), (1.0000000, 'cplx'), (1.0000000, 'cplx')])\n",
      "(2, 4, 4, True, x^8 + x^7 - x^6 - x^5 - x^4 - x^3 - x^2 + x + 1, [(-1.4874760, 'real'), (-0.67227975, 'real'), (0.80511954, 'real'), (1.2420516, 'real'), (1.0000000, 'cplx'), (1.0000000, 'cplx'), (1.0000000, 'cplx'), (1.0000000, 'cplx')])\n",
      "(3, 0, 0, False, x^8 + x^7 + x^6 + x^5 + x^4 - x^3 + x^2 - x + 1, [(1.3592358, 'cplx'), (1.3592358, 'cplx'), (0.91378670, 'cplx'), (0.91378670, 'cplx'), (1.0943473, 'cplx'), (1.0943473, 'cplx'), (0.73570753, 'cplx'), (0.73570753, 'cplx')])\n",
      "(4, 0, 0, False, x^8 + x^7 + x^6 + x^5 - x^4 - x^3 + x^2 - x + 1, [(1.2788953, 'cplx'), (1.2788953, 'cplx'), (1.2788953, 'cplx'), (1.2788953, 'cplx'), (0.78192485, 'cplx'), (0.78192485, 'cplx'), (0.78192485, 'cplx'), (0.78192485, 'cplx')])\n",
      "(5, 4, 0, False, x^8 + x^7 - x^6 + x^5 - x^4 - x^3 - x^2 - x + 1, [(-1.8880013, 'real'), (-0.89914111, 'real'), (0.52966066, 'real'), (1.1121725, 'real'), (0.90918289, 'cplx'), (0.90918289, 'cplx'), (1.0998887, 'cplx'), (1.0998887, 'cplx')])\n"
     ]
    }
   ],
   "source": [
    "realandcplx(Sq(8))"
   ]
  }
 ],
 "metadata": {
  "kernelspec": {
   "display_name": "SageMath 9.2",
   "language": "sagemath",
   "metadata": {
    "cocalc": {
     "description": "Open-source mathematical software system",
     "priority": 10,
     "url": "https://www.sagemath.org/"
    }
   },
   "name": "sage-9.2"
  },
  "language_info": {
   "codemirror_mode": {
    "name": "ipython",
    "version": 3
   },
   "file_extension": ".py",
   "mimetype": "text/x-python",
   "name": "python",
   "nbconvert_exporter": "python",
   "pygments_lexer": "ipython3",
   "version": "3.8.5"
  }
 },
 "nbformat": 4,
 "nbformat_minor": 4
}